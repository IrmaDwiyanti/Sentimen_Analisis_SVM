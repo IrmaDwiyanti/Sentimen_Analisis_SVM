{
  "nbformat": 4,
  "nbformat_minor": 0,
  "metadata": {
    "colab": {
      "provenance": []
    },
    "kernelspec": {
      "name": "python3",
      "display_name": "Python 3"
    },
    "language_info": {
      "name": "python"
    }
  },
  "cells": [
    {
      "cell_type": "markdown",
      "source": [
        "**Importing various libraries**"
      ],
      "metadata": {
        "id": "VIGvwTJgY-xi"
      }
    },
    {
      "cell_type": "code",
      "source": [
        "pip install -U scikit-learn"
      ],
      "metadata": {
        "colab": {
          "base_uri": "https://localhost:8080/"
        },
        "id": "qXaYv1PjeANn",
        "outputId": "01aa0760-f5fc-48e8-f67b-94cf66919e94"
      },
      "execution_count": 1,
      "outputs": [
        {
          "output_type": "stream",
          "name": "stdout",
          "text": [
            "Requirement already satisfied: scikit-learn in /usr/local/lib/python3.11/dist-packages (1.6.1)\n",
            "Requirement already satisfied: numpy>=1.19.5 in /usr/local/lib/python3.11/dist-packages (from scikit-learn) (2.0.2)\n",
            "Requirement already satisfied: scipy>=1.6.0 in /usr/local/lib/python3.11/dist-packages (from scikit-learn) (1.15.2)\n",
            "Requirement already satisfied: joblib>=1.2.0 in /usr/local/lib/python3.11/dist-packages (from scikit-learn) (1.4.2)\n",
            "Requirement already satisfied: threadpoolctl>=3.1.0 in /usr/local/lib/python3.11/dist-packages (from scikit-learn) (3.6.0)\n"
          ]
        }
      ]
    },
    {
      "source": [
        "import pandas as pd\n",
        "import numpy as np\n",
        "from textblob import TextBlob\n",
        "import matplotlib as mpl\n",
        "import matplotlib.pyplot as plt\n",
        "import csv\n",
        "import _pickle as cPickle\n",
        "from scipy.io import loadmat\n",
        "from sklearn.svm import SVC\n",
        "import seaborn as sns\n",
        "sns.set_context('notebook')\n",
        "sns.set_style('white')\n",
        "from google.colab import drive\n",
        "drive.mount('/content/drive')\n",
        "\n",
        "import nltk\n",
        "from nltk.corpus import stopwords\n",
        "from sklearn.feature_extraction.text import CountVectorizer ,TfidfVectorizer,TfidfTransformer\n",
        "from sklearn.model_selection import train_test_split, StratifiedKFold, cross_val_score\n",
        "from sklearn.metrics import classification_report, f1_score, confusion_matrix, roc_auc_score\n",
        "from sklearn.pipeline import Pipeline\n",
        "from sklearn.model_selection import GridSearchCV\n",
        "from sklearn.model_selection import train_test_split\n",
        "from sklearn.tree import DecisionTreeClassifier\n",
        "from sklearn.model_selection import learning_curve\n",
        "from sklearn.naive_bayes import MultinomialNB"
      ],
      "cell_type": "code",
      "metadata": {
        "id": "rJo63VteePKX",
        "colab": {
          "base_uri": "https://localhost:8080/"
        },
        "outputId": "803baa9a-1e7a-4bd1-c967-ff670dbe486b"
      },
      "execution_count": 2,
      "outputs": [
        {
          "output_type": "stream",
          "name": "stdout",
          "text": [
            "Mounted at /content/drive\n"
          ]
        }
      ]
    },
    {
      "cell_type": "code",
      "source": [
        "df=pd.read_csv(\"/content/drive/MyDrive/SEM6/Prak. Pembelajaran Mesin/Pertemuan9/Training.txt\",sep=\"\\t\", names=['liked','text'],encoding=\"utf-8\");\n",
        "df.head(3)\n",
        "#df"
      ],
      "metadata": {
        "colab": {
          "base_uri": "https://localhost:8080/",
          "height": 143
        },
        "id": "ulYjJsWuZFwH",
        "outputId": "0dc807bf-5c7b-4da9-b8b3-333092121eba"
      },
      "execution_count": 3,
      "outputs": [
        {
          "output_type": "execute_result",
          "data": {
            "text/plain": [
              "   liked                                               text\n",
              "0      1                      India is developing countries\n",
              "1      1            The Da Vinci Code book is just awesome.\n",
              "2      1  this was the first clive cussler i've ever rea..."
            ],
            "text/html": [
              "\n",
              "  <div id=\"df-7a73293e-ddf5-4b28-ad06-8b9c16758fb8\" class=\"colab-df-container\">\n",
              "    <div>\n",
              "<style scoped>\n",
              "    .dataframe tbody tr th:only-of-type {\n",
              "        vertical-align: middle;\n",
              "    }\n",
              "\n",
              "    .dataframe tbody tr th {\n",
              "        vertical-align: top;\n",
              "    }\n",
              "\n",
              "    .dataframe thead th {\n",
              "        text-align: right;\n",
              "    }\n",
              "</style>\n",
              "<table border=\"1\" class=\"dataframe\">\n",
              "  <thead>\n",
              "    <tr style=\"text-align: right;\">\n",
              "      <th></th>\n",
              "      <th>liked</th>\n",
              "      <th>text</th>\n",
              "    </tr>\n",
              "  </thead>\n",
              "  <tbody>\n",
              "    <tr>\n",
              "      <th>0</th>\n",
              "      <td>1</td>\n",
              "      <td>India is developing countries</td>\n",
              "    </tr>\n",
              "    <tr>\n",
              "      <th>1</th>\n",
              "      <td>1</td>\n",
              "      <td>The Da Vinci Code book is just awesome.</td>\n",
              "    </tr>\n",
              "    <tr>\n",
              "      <th>2</th>\n",
              "      <td>1</td>\n",
              "      <td>this was the first clive cussler i've ever rea...</td>\n",
              "    </tr>\n",
              "  </tbody>\n",
              "</table>\n",
              "</div>\n",
              "    <div class=\"colab-df-buttons\">\n",
              "\n",
              "  <div class=\"colab-df-container\">\n",
              "    <button class=\"colab-df-convert\" onclick=\"convertToInteractive('df-7a73293e-ddf5-4b28-ad06-8b9c16758fb8')\"\n",
              "            title=\"Convert this dataframe to an interactive table.\"\n",
              "            style=\"display:none;\">\n",
              "\n",
              "  <svg xmlns=\"http://www.w3.org/2000/svg\" height=\"24px\" viewBox=\"0 -960 960 960\">\n",
              "    <path d=\"M120-120v-720h720v720H120Zm60-500h600v-160H180v160Zm220 220h160v-160H400v160Zm0 220h160v-160H400v160ZM180-400h160v-160H180v160Zm440 0h160v-160H620v160ZM180-180h160v-160H180v160Zm440 0h160v-160H620v160Z\"/>\n",
              "  </svg>\n",
              "    </button>\n",
              "\n",
              "  <style>\n",
              "    .colab-df-container {\n",
              "      display:flex;\n",
              "      gap: 12px;\n",
              "    }\n",
              "\n",
              "    .colab-df-convert {\n",
              "      background-color: #E8F0FE;\n",
              "      border: none;\n",
              "      border-radius: 50%;\n",
              "      cursor: pointer;\n",
              "      display: none;\n",
              "      fill: #1967D2;\n",
              "      height: 32px;\n",
              "      padding: 0 0 0 0;\n",
              "      width: 32px;\n",
              "    }\n",
              "\n",
              "    .colab-df-convert:hover {\n",
              "      background-color: #E2EBFA;\n",
              "      box-shadow: 0px 1px 2px rgba(60, 64, 67, 0.3), 0px 1px 3px 1px rgba(60, 64, 67, 0.15);\n",
              "      fill: #174EA6;\n",
              "    }\n",
              "\n",
              "    .colab-df-buttons div {\n",
              "      margin-bottom: 4px;\n",
              "    }\n",
              "\n",
              "    [theme=dark] .colab-df-convert {\n",
              "      background-color: #3B4455;\n",
              "      fill: #D2E3FC;\n",
              "    }\n",
              "\n",
              "    [theme=dark] .colab-df-convert:hover {\n",
              "      background-color: #434B5C;\n",
              "      box-shadow: 0px 1px 3px 1px rgba(0, 0, 0, 0.15);\n",
              "      filter: drop-shadow(0px 1px 2px rgba(0, 0, 0, 0.3));\n",
              "      fill: #FFFFFF;\n",
              "    }\n",
              "  </style>\n",
              "\n",
              "    <script>\n",
              "      const buttonEl =\n",
              "        document.querySelector('#df-7a73293e-ddf5-4b28-ad06-8b9c16758fb8 button.colab-df-convert');\n",
              "      buttonEl.style.display =\n",
              "        google.colab.kernel.accessAllowed ? 'block' : 'none';\n",
              "\n",
              "      async function convertToInteractive(key) {\n",
              "        const element = document.querySelector('#df-7a73293e-ddf5-4b28-ad06-8b9c16758fb8');\n",
              "        const dataTable =\n",
              "          await google.colab.kernel.invokeFunction('convertToInteractive',\n",
              "                                                    [key], {});\n",
              "        if (!dataTable) return;\n",
              "\n",
              "        const docLinkHtml = 'Like what you see? Visit the ' +\n",
              "          '<a target=\"_blank\" href=https://colab.research.google.com/notebooks/data_table.ipynb>data table notebook</a>'\n",
              "          + ' to learn more about interactive tables.';\n",
              "        element.innerHTML = '';\n",
              "        dataTable['output_type'] = 'display_data';\n",
              "        await google.colab.output.renderOutput(dataTable, element);\n",
              "        const docLink = document.createElement('div');\n",
              "        docLink.innerHTML = docLinkHtml;\n",
              "        element.appendChild(docLink);\n",
              "      }\n",
              "    </script>\n",
              "  </div>\n",
              "\n",
              "\n",
              "    <div id=\"df-a86f5b15-95d4-4a3e-8ce0-c3d4cd6aaa02\">\n",
              "      <button class=\"colab-df-quickchart\" onclick=\"quickchart('df-a86f5b15-95d4-4a3e-8ce0-c3d4cd6aaa02')\"\n",
              "                title=\"Suggest charts\"\n",
              "                style=\"display:none;\">\n",
              "\n",
              "<svg xmlns=\"http://www.w3.org/2000/svg\" height=\"24px\"viewBox=\"0 0 24 24\"\n",
              "     width=\"24px\">\n",
              "    <g>\n",
              "        <path d=\"M19 3H5c-1.1 0-2 .9-2 2v14c0 1.1.9 2 2 2h14c1.1 0 2-.9 2-2V5c0-1.1-.9-2-2-2zM9 17H7v-7h2v7zm4 0h-2V7h2v10zm4 0h-2v-4h2v4z\"/>\n",
              "    </g>\n",
              "</svg>\n",
              "      </button>\n",
              "\n",
              "<style>\n",
              "  .colab-df-quickchart {\n",
              "      --bg-color: #E8F0FE;\n",
              "      --fill-color: #1967D2;\n",
              "      --hover-bg-color: #E2EBFA;\n",
              "      --hover-fill-color: #174EA6;\n",
              "      --disabled-fill-color: #AAA;\n",
              "      --disabled-bg-color: #DDD;\n",
              "  }\n",
              "\n",
              "  [theme=dark] .colab-df-quickchart {\n",
              "      --bg-color: #3B4455;\n",
              "      --fill-color: #D2E3FC;\n",
              "      --hover-bg-color: #434B5C;\n",
              "      --hover-fill-color: #FFFFFF;\n",
              "      --disabled-bg-color: #3B4455;\n",
              "      --disabled-fill-color: #666;\n",
              "  }\n",
              "\n",
              "  .colab-df-quickchart {\n",
              "    background-color: var(--bg-color);\n",
              "    border: none;\n",
              "    border-radius: 50%;\n",
              "    cursor: pointer;\n",
              "    display: none;\n",
              "    fill: var(--fill-color);\n",
              "    height: 32px;\n",
              "    padding: 0;\n",
              "    width: 32px;\n",
              "  }\n",
              "\n",
              "  .colab-df-quickchart:hover {\n",
              "    background-color: var(--hover-bg-color);\n",
              "    box-shadow: 0 1px 2px rgba(60, 64, 67, 0.3), 0 1px 3px 1px rgba(60, 64, 67, 0.15);\n",
              "    fill: var(--button-hover-fill-color);\n",
              "  }\n",
              "\n",
              "  .colab-df-quickchart-complete:disabled,\n",
              "  .colab-df-quickchart-complete:disabled:hover {\n",
              "    background-color: var(--disabled-bg-color);\n",
              "    fill: var(--disabled-fill-color);\n",
              "    box-shadow: none;\n",
              "  }\n",
              "\n",
              "  .colab-df-spinner {\n",
              "    border: 2px solid var(--fill-color);\n",
              "    border-color: transparent;\n",
              "    border-bottom-color: var(--fill-color);\n",
              "    animation:\n",
              "      spin 1s steps(1) infinite;\n",
              "  }\n",
              "\n",
              "  @keyframes spin {\n",
              "    0% {\n",
              "      border-color: transparent;\n",
              "      border-bottom-color: var(--fill-color);\n",
              "      border-left-color: var(--fill-color);\n",
              "    }\n",
              "    20% {\n",
              "      border-color: transparent;\n",
              "      border-left-color: var(--fill-color);\n",
              "      border-top-color: var(--fill-color);\n",
              "    }\n",
              "    30% {\n",
              "      border-color: transparent;\n",
              "      border-left-color: var(--fill-color);\n",
              "      border-top-color: var(--fill-color);\n",
              "      border-right-color: var(--fill-color);\n",
              "    }\n",
              "    40% {\n",
              "      border-color: transparent;\n",
              "      border-right-color: var(--fill-color);\n",
              "      border-top-color: var(--fill-color);\n",
              "    }\n",
              "    60% {\n",
              "      border-color: transparent;\n",
              "      border-right-color: var(--fill-color);\n",
              "    }\n",
              "    80% {\n",
              "      border-color: transparent;\n",
              "      border-right-color: var(--fill-color);\n",
              "      border-bottom-color: var(--fill-color);\n",
              "    }\n",
              "    90% {\n",
              "      border-color: transparent;\n",
              "      border-bottom-color: var(--fill-color);\n",
              "    }\n",
              "  }\n",
              "</style>\n",
              "\n",
              "      <script>\n",
              "        async function quickchart(key) {\n",
              "          const quickchartButtonEl =\n",
              "            document.querySelector('#' + key + ' button');\n",
              "          quickchartButtonEl.disabled = true;  // To prevent multiple clicks.\n",
              "          quickchartButtonEl.classList.add('colab-df-spinner');\n",
              "          try {\n",
              "            const charts = await google.colab.kernel.invokeFunction(\n",
              "                'suggestCharts', [key], {});\n",
              "          } catch (error) {\n",
              "            console.error('Error during call to suggestCharts:', error);\n",
              "          }\n",
              "          quickchartButtonEl.classList.remove('colab-df-spinner');\n",
              "          quickchartButtonEl.classList.add('colab-df-quickchart-complete');\n",
              "        }\n",
              "        (() => {\n",
              "          let quickchartButtonEl =\n",
              "            document.querySelector('#df-a86f5b15-95d4-4a3e-8ce0-c3d4cd6aaa02 button');\n",
              "          quickchartButtonEl.style.display =\n",
              "            google.colab.kernel.accessAllowed ? 'block' : 'none';\n",
              "        })();\n",
              "      </script>\n",
              "    </div>\n",
              "\n",
              "    </div>\n",
              "  </div>\n"
            ],
            "application/vnd.google.colaboratory.intrinsic+json": {
              "type": "dataframe",
              "summary": "{\n  \"name\": \"#df\",\n  \"rows\": 3,\n  \"fields\": [\n    {\n      \"column\": \"liked\",\n      \"properties\": {\n        \"dtype\": \"number\",\n        \"std\": 0,\n        \"min\": 1,\n        \"max\": 1,\n        \"num_unique_values\": 1,\n        \"samples\": [\n          1\n        ],\n        \"semantic_type\": \"\",\n        \"description\": \"\"\n      }\n    },\n    {\n      \"column\": \"text\",\n      \"properties\": {\n        \"dtype\": \"string\",\n        \"num_unique_values\": 3,\n        \"samples\": [\n          \"India is developing countries\"\n        ],\n        \"semantic_type\": \"\",\n        \"description\": \"\"\n      }\n    }\n  ]\n}"
            }
          },
          "metadata": {},
          "execution_count": 3
        }
      ]
    },
    {
      "cell_type": "code",
      "source": [
        "print(len(df))"
      ],
      "metadata": {
        "id": "X6BzmCxGaxuY",
        "colab": {
          "base_uri": "https://localhost:8080/"
        },
        "outputId": "65e842ee-4325-4143-9488-e31409f38b90"
      },
      "execution_count": 4,
      "outputs": [
        {
          "output_type": "stream",
          "name": "stdout",
          "text": [
            "6931\n"
          ]
        }
      ]
    },
    {
      "cell_type": "code",
      "source": [
        "df.groupby('liked').describe()"
      ],
      "metadata": {
        "colab": {
          "base_uri": "https://localhost:8080/",
          "height": 174
        },
        "id": "MjcJx1gZZEoe",
        "outputId": "1e149618-5a64-478a-cc14-63ce769cf064"
      },
      "execution_count": 5,
      "outputs": [
        {
          "output_type": "execute_result",
          "data": {
            "text/plain": [
              "       text                                  \n",
              "      count unique                   top freq\n",
              "liked                                        \n",
              "0      2975    559  I hate Harry Potter.   85\n",
              "1      3956    744  I love Harry Potter.  167"
            ],
            "text/html": [
              "\n",
              "  <div id=\"df-dee6dc11-607f-4d18-b6de-2f745c66c594\" class=\"colab-df-container\">\n",
              "    <div>\n",
              "<style scoped>\n",
              "    .dataframe tbody tr th:only-of-type {\n",
              "        vertical-align: middle;\n",
              "    }\n",
              "\n",
              "    .dataframe tbody tr th {\n",
              "        vertical-align: top;\n",
              "    }\n",
              "\n",
              "    .dataframe thead tr th {\n",
              "        text-align: left;\n",
              "    }\n",
              "\n",
              "    .dataframe thead tr:last-of-type th {\n",
              "        text-align: right;\n",
              "    }\n",
              "</style>\n",
              "<table border=\"1\" class=\"dataframe\">\n",
              "  <thead>\n",
              "    <tr>\n",
              "      <th></th>\n",
              "      <th colspan=\"4\" halign=\"left\">text</th>\n",
              "    </tr>\n",
              "    <tr>\n",
              "      <th></th>\n",
              "      <th>count</th>\n",
              "      <th>unique</th>\n",
              "      <th>top</th>\n",
              "      <th>freq</th>\n",
              "    </tr>\n",
              "    <tr>\n",
              "      <th>liked</th>\n",
              "      <th></th>\n",
              "      <th></th>\n",
              "      <th></th>\n",
              "      <th></th>\n",
              "    </tr>\n",
              "  </thead>\n",
              "  <tbody>\n",
              "    <tr>\n",
              "      <th>0</th>\n",
              "      <td>2975</td>\n",
              "      <td>559</td>\n",
              "      <td>I hate Harry Potter.</td>\n",
              "      <td>85</td>\n",
              "    </tr>\n",
              "    <tr>\n",
              "      <th>1</th>\n",
              "      <td>3956</td>\n",
              "      <td>744</td>\n",
              "      <td>I love Harry Potter.</td>\n",
              "      <td>167</td>\n",
              "    </tr>\n",
              "  </tbody>\n",
              "</table>\n",
              "</div>\n",
              "    <div class=\"colab-df-buttons\">\n",
              "\n",
              "  <div class=\"colab-df-container\">\n",
              "    <button class=\"colab-df-convert\" onclick=\"convertToInteractive('df-dee6dc11-607f-4d18-b6de-2f745c66c594')\"\n",
              "            title=\"Convert this dataframe to an interactive table.\"\n",
              "            style=\"display:none;\">\n",
              "\n",
              "  <svg xmlns=\"http://www.w3.org/2000/svg\" height=\"24px\" viewBox=\"0 -960 960 960\">\n",
              "    <path d=\"M120-120v-720h720v720H120Zm60-500h600v-160H180v160Zm220 220h160v-160H400v160Zm0 220h160v-160H400v160ZM180-400h160v-160H180v160Zm440 0h160v-160H620v160ZM180-180h160v-160H180v160Zm440 0h160v-160H620v160Z\"/>\n",
              "  </svg>\n",
              "    </button>\n",
              "\n",
              "  <style>\n",
              "    .colab-df-container {\n",
              "      display:flex;\n",
              "      gap: 12px;\n",
              "    }\n",
              "\n",
              "    .colab-df-convert {\n",
              "      background-color: #E8F0FE;\n",
              "      border: none;\n",
              "      border-radius: 50%;\n",
              "      cursor: pointer;\n",
              "      display: none;\n",
              "      fill: #1967D2;\n",
              "      height: 32px;\n",
              "      padding: 0 0 0 0;\n",
              "      width: 32px;\n",
              "    }\n",
              "\n",
              "    .colab-df-convert:hover {\n",
              "      background-color: #E2EBFA;\n",
              "      box-shadow: 0px 1px 2px rgba(60, 64, 67, 0.3), 0px 1px 3px 1px rgba(60, 64, 67, 0.15);\n",
              "      fill: #174EA6;\n",
              "    }\n",
              "\n",
              "    .colab-df-buttons div {\n",
              "      margin-bottom: 4px;\n",
              "    }\n",
              "\n",
              "    [theme=dark] .colab-df-convert {\n",
              "      background-color: #3B4455;\n",
              "      fill: #D2E3FC;\n",
              "    }\n",
              "\n",
              "    [theme=dark] .colab-df-convert:hover {\n",
              "      background-color: #434B5C;\n",
              "      box-shadow: 0px 1px 3px 1px rgba(0, 0, 0, 0.15);\n",
              "      filter: drop-shadow(0px 1px 2px rgba(0, 0, 0, 0.3));\n",
              "      fill: #FFFFFF;\n",
              "    }\n",
              "  </style>\n",
              "\n",
              "    <script>\n",
              "      const buttonEl =\n",
              "        document.querySelector('#df-dee6dc11-607f-4d18-b6de-2f745c66c594 button.colab-df-convert');\n",
              "      buttonEl.style.display =\n",
              "        google.colab.kernel.accessAllowed ? 'block' : 'none';\n",
              "\n",
              "      async function convertToInteractive(key) {\n",
              "        const element = document.querySelector('#df-dee6dc11-607f-4d18-b6de-2f745c66c594');\n",
              "        const dataTable =\n",
              "          await google.colab.kernel.invokeFunction('convertToInteractive',\n",
              "                                                    [key], {});\n",
              "        if (!dataTable) return;\n",
              "\n",
              "        const docLinkHtml = 'Like what you see? Visit the ' +\n",
              "          '<a target=\"_blank\" href=https://colab.research.google.com/notebooks/data_table.ipynb>data table notebook</a>'\n",
              "          + ' to learn more about interactive tables.';\n",
              "        element.innerHTML = '';\n",
              "        dataTable['output_type'] = 'display_data';\n",
              "        await google.colab.output.renderOutput(dataTable, element);\n",
              "        const docLink = document.createElement('div');\n",
              "        docLink.innerHTML = docLinkHtml;\n",
              "        element.appendChild(docLink);\n",
              "      }\n",
              "    </script>\n",
              "  </div>\n",
              "\n",
              "\n",
              "    <div id=\"df-d8ea9d99-1bd3-441e-a952-13b1d9b6c648\">\n",
              "      <button class=\"colab-df-quickchart\" onclick=\"quickchart('df-d8ea9d99-1bd3-441e-a952-13b1d9b6c648')\"\n",
              "                title=\"Suggest charts\"\n",
              "                style=\"display:none;\">\n",
              "\n",
              "<svg xmlns=\"http://www.w3.org/2000/svg\" height=\"24px\"viewBox=\"0 0 24 24\"\n",
              "     width=\"24px\">\n",
              "    <g>\n",
              "        <path d=\"M19 3H5c-1.1 0-2 .9-2 2v14c0 1.1.9 2 2 2h14c1.1 0 2-.9 2-2V5c0-1.1-.9-2-2-2zM9 17H7v-7h2v7zm4 0h-2V7h2v10zm4 0h-2v-4h2v4z\"/>\n",
              "    </g>\n",
              "</svg>\n",
              "      </button>\n",
              "\n",
              "<style>\n",
              "  .colab-df-quickchart {\n",
              "      --bg-color: #E8F0FE;\n",
              "      --fill-color: #1967D2;\n",
              "      --hover-bg-color: #E2EBFA;\n",
              "      --hover-fill-color: #174EA6;\n",
              "      --disabled-fill-color: #AAA;\n",
              "      --disabled-bg-color: #DDD;\n",
              "  }\n",
              "\n",
              "  [theme=dark] .colab-df-quickchart {\n",
              "      --bg-color: #3B4455;\n",
              "      --fill-color: #D2E3FC;\n",
              "      --hover-bg-color: #434B5C;\n",
              "      --hover-fill-color: #FFFFFF;\n",
              "      --disabled-bg-color: #3B4455;\n",
              "      --disabled-fill-color: #666;\n",
              "  }\n",
              "\n",
              "  .colab-df-quickchart {\n",
              "    background-color: var(--bg-color);\n",
              "    border: none;\n",
              "    border-radius: 50%;\n",
              "    cursor: pointer;\n",
              "    display: none;\n",
              "    fill: var(--fill-color);\n",
              "    height: 32px;\n",
              "    padding: 0;\n",
              "    width: 32px;\n",
              "  }\n",
              "\n",
              "  .colab-df-quickchart:hover {\n",
              "    background-color: var(--hover-bg-color);\n",
              "    box-shadow: 0 1px 2px rgba(60, 64, 67, 0.3), 0 1px 3px 1px rgba(60, 64, 67, 0.15);\n",
              "    fill: var(--button-hover-fill-color);\n",
              "  }\n",
              "\n",
              "  .colab-df-quickchart-complete:disabled,\n",
              "  .colab-df-quickchart-complete:disabled:hover {\n",
              "    background-color: var(--disabled-bg-color);\n",
              "    fill: var(--disabled-fill-color);\n",
              "    box-shadow: none;\n",
              "  }\n",
              "\n",
              "  .colab-df-spinner {\n",
              "    border: 2px solid var(--fill-color);\n",
              "    border-color: transparent;\n",
              "    border-bottom-color: var(--fill-color);\n",
              "    animation:\n",
              "      spin 1s steps(1) infinite;\n",
              "  }\n",
              "\n",
              "  @keyframes spin {\n",
              "    0% {\n",
              "      border-color: transparent;\n",
              "      border-bottom-color: var(--fill-color);\n",
              "      border-left-color: var(--fill-color);\n",
              "    }\n",
              "    20% {\n",
              "      border-color: transparent;\n",
              "      border-left-color: var(--fill-color);\n",
              "      border-top-color: var(--fill-color);\n",
              "    }\n",
              "    30% {\n",
              "      border-color: transparent;\n",
              "      border-left-color: var(--fill-color);\n",
              "      border-top-color: var(--fill-color);\n",
              "      border-right-color: var(--fill-color);\n",
              "    }\n",
              "    40% {\n",
              "      border-color: transparent;\n",
              "      border-right-color: var(--fill-color);\n",
              "      border-top-color: var(--fill-color);\n",
              "    }\n",
              "    60% {\n",
              "      border-color: transparent;\n",
              "      border-right-color: var(--fill-color);\n",
              "    }\n",
              "    80% {\n",
              "      border-color: transparent;\n",
              "      border-right-color: var(--fill-color);\n",
              "      border-bottom-color: var(--fill-color);\n",
              "    }\n",
              "    90% {\n",
              "      border-color: transparent;\n",
              "      border-bottom-color: var(--fill-color);\n",
              "    }\n",
              "  }\n",
              "</style>\n",
              "\n",
              "      <script>\n",
              "        async function quickchart(key) {\n",
              "          const quickchartButtonEl =\n",
              "            document.querySelector('#' + key + ' button');\n",
              "          quickchartButtonEl.disabled = true;  // To prevent multiple clicks.\n",
              "          quickchartButtonEl.classList.add('colab-df-spinner');\n",
              "          try {\n",
              "            const charts = await google.colab.kernel.invokeFunction(\n",
              "                'suggestCharts', [key], {});\n",
              "          } catch (error) {\n",
              "            console.error('Error during call to suggestCharts:', error);\n",
              "          }\n",
              "          quickchartButtonEl.classList.remove('colab-df-spinner');\n",
              "          quickchartButtonEl.classList.add('colab-df-quickchart-complete');\n",
              "        }\n",
              "        (() => {\n",
              "          let quickchartButtonEl =\n",
              "            document.querySelector('#df-d8ea9d99-1bd3-441e-a952-13b1d9b6c648 button');\n",
              "          quickchartButtonEl.style.display =\n",
              "            google.colab.kernel.accessAllowed ? 'block' : 'none';\n",
              "        })();\n",
              "      </script>\n",
              "    </div>\n",
              "\n",
              "    </div>\n",
              "  </div>\n"
            ],
            "application/vnd.google.colaboratory.intrinsic+json": {
              "type": "dataframe",
              "summary": "{\n  \"name\": \"df\",\n  \"rows\": 2,\n  \"fields\": [\n    {\n      \"column\": [\n        \"liked\",\n        \"\"\n      ],\n      \"properties\": {\n        \"dtype\": \"number\",\n        \"std\": 0,\n        \"min\": 0,\n        \"max\": 1,\n        \"num_unique_values\": 2,\n        \"samples\": [\n          1,\n          0\n        ],\n        \"semantic_type\": \"\",\n        \"description\": \"\"\n      }\n    },\n    {\n      \"column\": [\n        \"text\",\n        \"count\"\n      ],\n      \"properties\": {\n        \"dtype\": \"date\",\n        \"min\": \"2975\",\n        \"max\": \"3956\",\n        \"num_unique_values\": 2,\n        \"samples\": [\n          \"3956\",\n          \"2975\"\n        ],\n        \"semantic_type\": \"\",\n        \"description\": \"\"\n      }\n    },\n    {\n      \"column\": [\n        \"text\",\n        \"unique\"\n      ],\n      \"properties\": {\n        \"dtype\": \"date\",\n        \"min\": 559,\n        \"max\": 744,\n        \"num_unique_values\": 2,\n        \"samples\": [\n          744,\n          559\n        ],\n        \"semantic_type\": \"\",\n        \"description\": \"\"\n      }\n    },\n    {\n      \"column\": [\n        \"text\",\n        \"top\"\n      ],\n      \"properties\": {\n        \"dtype\": \"string\",\n        \"num_unique_values\": 2,\n        \"samples\": [\n          \"I love Harry Potter.\",\n          \"I hate Harry Potter.\"\n        ],\n        \"semantic_type\": \"\",\n        \"description\": \"\"\n      }\n    },\n    {\n      \"column\": [\n        \"text\",\n        \"freq\"\n      ],\n      \"properties\": {\n        \"dtype\": \"date\",\n        \"min\": \"85\",\n        \"max\": \"167\",\n        \"num_unique_values\": 2,\n        \"samples\": [\n          \"167\",\n          \"85\"\n        ],\n        \"semantic_type\": \"\",\n        \"description\": \"\"\n      }\n    }\n  ]\n}"
            }
          },
          "metadata": {},
          "execution_count": 5
        }
      ]
    },
    {
      "cell_type": "markdown",
      "source": [
        "# Data preprocessing"
      ],
      "metadata": {
        "id": "5xScrb0JZK6d"
      }
    },
    {
      "cell_type": "code",
      "source": [
        "def tokens(review):\n",
        "    return TextBlob(review).words"
      ],
      "metadata": {
        "id": "h1gWIwijZMJq"
      },
      "execution_count": 8,
      "outputs": []
    },
    {
      "source": [
        "import nltk\n",
        "nltk.download('punkt_tab')"
      ],
      "cell_type": "code",
      "metadata": {
        "colab": {
          "base_uri": "https://localhost:8080/"
        },
        "id": "cxHRQU4UZVi9",
        "outputId": "9c47d594-f14b-4811-fe97-cb5b23813999"
      },
      "execution_count": 9,
      "outputs": [
        {
          "output_type": "stream",
          "name": "stderr",
          "text": [
            "[nltk_data] Downloading package punkt_tab to /root/nltk_data...\n",
            "[nltk_data]   Unzipping tokenizers/punkt_tab.zip.\n"
          ]
        },
        {
          "output_type": "execute_result",
          "data": {
            "text/plain": [
              "True"
            ]
          },
          "metadata": {},
          "execution_count": 9
        }
      ]
    },
    {
      "cell_type": "code",
      "source": [
        "df.head().text.apply(tokens)"
      ],
      "metadata": {
        "colab": {
          "base_uri": "https://localhost:8080/",
          "height": 241
        },
        "id": "79TqtfqyZOm9",
        "outputId": "832b24c1-446c-4356-ab7f-ed97ce0fbd18"
      },
      "execution_count": 10,
      "outputs": [
        {
          "output_type": "execute_result",
          "data": {
            "text/plain": [
              "0                   [India, is, developing, countries]\n",
              "1      [The, Da, Vinci, Code, book, is, just, awesome]\n",
              "2    [this, was, the, first, clive, cussler, i, 've...\n",
              "3             [i, liked, the, Da, Vinci, Code, a, lot]\n",
              "4             [i, liked, the, Da, Vinci, Code, a, lot]\n",
              "Name: text, dtype: object"
            ],
            "text/html": [
              "<div>\n",
              "<style scoped>\n",
              "    .dataframe tbody tr th:only-of-type {\n",
              "        vertical-align: middle;\n",
              "    }\n",
              "\n",
              "    .dataframe tbody tr th {\n",
              "        vertical-align: top;\n",
              "    }\n",
              "\n",
              "    .dataframe thead th {\n",
              "        text-align: right;\n",
              "    }\n",
              "</style>\n",
              "<table border=\"1\" class=\"dataframe\">\n",
              "  <thead>\n",
              "    <tr style=\"text-align: right;\">\n",
              "      <th></th>\n",
              "      <th>text</th>\n",
              "    </tr>\n",
              "  </thead>\n",
              "  <tbody>\n",
              "    <tr>\n",
              "      <th>0</th>\n",
              "      <td>[India, is, developing, countries]</td>\n",
              "    </tr>\n",
              "    <tr>\n",
              "      <th>1</th>\n",
              "      <td>[The, Da, Vinci, Code, book, is, just, awesome]</td>\n",
              "    </tr>\n",
              "    <tr>\n",
              "      <th>2</th>\n",
              "      <td>[this, was, the, first, clive, cussler, i, 've...</td>\n",
              "    </tr>\n",
              "    <tr>\n",
              "      <th>3</th>\n",
              "      <td>[i, liked, the, Da, Vinci, Code, a, lot]</td>\n",
              "    </tr>\n",
              "    <tr>\n",
              "      <th>4</th>\n",
              "      <td>[i, liked, the, Da, Vinci, Code, a, lot]</td>\n",
              "    </tr>\n",
              "  </tbody>\n",
              "</table>\n",
              "</div><br><label><b>dtype:</b> object</label>"
            ]
          },
          "metadata": {},
          "execution_count": 10
        }
      ]
    },
    {
      "cell_type": "markdown",
      "source": [
        "Fungsi token() dibuat untuk mengurai data/review menjadi kata-kata."
      ],
      "metadata": {
        "id": "o0ROwVfWZfzj"
      }
    },
    {
      "source": [
        "nltk.download('averaged_perceptron_tagger_eng')\n",
        "TextBlob(\"ready was not a good movie\").tags"
      ],
      "cell_type": "code",
      "metadata": {
        "colab": {
          "base_uri": "https://localhost:8080/"
        },
        "id": "pUre8eWiZnfO",
        "outputId": "fa9741cf-b9eb-4a5d-bfa5-d8dab791792f"
      },
      "execution_count": 12,
      "outputs": [
        {
          "output_type": "stream",
          "name": "stderr",
          "text": [
            "[nltk_data] Downloading package averaged_perceptron_tagger_eng to\n",
            "[nltk_data]     /root/nltk_data...\n",
            "[nltk_data]   Unzipping taggers/averaged_perceptron_tagger_eng.zip.\n"
          ]
        },
        {
          "output_type": "execute_result",
          "data": {
            "text/plain": [
              "[('ready', 'NN'),\n",
              " ('was', 'VBD'),\n",
              " ('not', 'RB'),\n",
              " ('a', 'DT'),\n",
              " ('good', 'JJ'),\n",
              " ('movie', 'NN')]"
            ]
          },
          "metadata": {},
          "execution_count": 12
        }
      ]
    },
    {
      "source": [
        "nltk.download('wordnet')\n",
        "\n",
        "def to_lemmas(review):\n",
        "    wordss = TextBlob(review.lower()).words\n",
        "    # for each word, take its \"base form\" = lemma\n",
        "    return [word.lemma for word in wordss]\n",
        "\n",
        "df.text.head().apply(to_lemmas)"
      ],
      "cell_type": "code",
      "metadata": {
        "colab": {
          "base_uri": "https://localhost:8080/",
          "height": 258
        },
        "id": "sc897vg7aEUS",
        "outputId": "c7172964-7297-475d-9792-c5635703eaf7"
      },
      "execution_count": 14,
      "outputs": [
        {
          "output_type": "stream",
          "name": "stderr",
          "text": [
            "[nltk_data] Downloading package wordnet to /root/nltk_data...\n"
          ]
        },
        {
          "output_type": "execute_result",
          "data": {
            "text/plain": [
              "0                     [india, is, developing, country]\n",
              "1      [the, da, vinci, code, book, is, just, awesome]\n",
              "2    [this, wa, the, first, clive, cussler, i, 've,...\n",
              "3             [i, liked, the, da, vinci, code, a, lot]\n",
              "4             [i, liked, the, da, vinci, code, a, lot]\n",
              "Name: text, dtype: object"
            ],
            "text/html": [
              "<div>\n",
              "<style scoped>\n",
              "    .dataframe tbody tr th:only-of-type {\n",
              "        vertical-align: middle;\n",
              "    }\n",
              "\n",
              "    .dataframe tbody tr th {\n",
              "        vertical-align: top;\n",
              "    }\n",
              "\n",
              "    .dataframe thead th {\n",
              "        text-align: right;\n",
              "    }\n",
              "</style>\n",
              "<table border=\"1\" class=\"dataframe\">\n",
              "  <thead>\n",
              "    <tr style=\"text-align: right;\">\n",
              "      <th></th>\n",
              "      <th>text</th>\n",
              "    </tr>\n",
              "  </thead>\n",
              "  <tbody>\n",
              "    <tr>\n",
              "      <th>0</th>\n",
              "      <td>[india, is, developing, country]</td>\n",
              "    </tr>\n",
              "    <tr>\n",
              "      <th>1</th>\n",
              "      <td>[the, da, vinci, code, book, is, just, awesome]</td>\n",
              "    </tr>\n",
              "    <tr>\n",
              "      <th>2</th>\n",
              "      <td>[this, wa, the, first, clive, cussler, i, 've,...</td>\n",
              "    </tr>\n",
              "    <tr>\n",
              "      <th>3</th>\n",
              "      <td>[i, liked, the, da, vinci, code, a, lot]</td>\n",
              "    </tr>\n",
              "    <tr>\n",
              "      <th>4</th>\n",
              "      <td>[i, liked, the, da, vinci, code, a, lot]</td>\n",
              "    </tr>\n",
              "  </tbody>\n",
              "</table>\n",
              "</div><br><label><b>dtype:</b> object</label>"
            ]
          },
          "metadata": {},
          "execution_count": 14
        }
      ]
    },
    {
      "cell_type": "markdown",
      "source": [
        "\n",
        "Lemmatization adalah salah satu tahapan penting dalam preprocessing data. Pada tahapan ini, kata-kata diubah menjadi lema (bentuk dasar). Sebagai contoh “octopi” diubah menjadi “gurita”. metode yang mirip dengan stemming.\n",
        "\n",
        "NLTK juga menyediakan lemmatizer yang sangat kuat yang memanfaatkan WORDNET, misalnya."
      ],
      "metadata": {
        "id": "vuSJd8d3aORH"
      }
    },
    {
      "cell_type": "code",
      "source": [
        "from nltk.stem.wordnet import WordNetLemmatizer\n",
        "lmtzr = WordNetLemmatizer()\n",
        "lmtzr.lemmatize('octopi')\n",
        "#nltk"
      ],
      "metadata": {
        "colab": {
          "base_uri": "https://localhost:8080/",
          "height": 35
        },
        "id": "GFPjA-BcaPfk",
        "outputId": "7a778ce6-0ae4-44a8-b03e-b85417bc63b3"
      },
      "execution_count": 15,
      "outputs": [
        {
          "output_type": "execute_result",
          "data": {
            "text/plain": [
              "'octopus'"
            ],
            "application/vnd.google.colaboratory.intrinsic+json": {
              "type": "string"
            }
          },
          "metadata": {},
          "execution_count": 15
        }
      ]
    },
    {
      "cell_type": "markdown",
      "source": [
        "# Converting text data into vectors"
      ],
      "metadata": {
        "id": "HWaJ_n9iaTXf"
      }
    },
    {
      "cell_type": "code",
      "source": [
        "bow_transformer = CountVectorizer(analyzer=to_lemmas).fit(df['text'])\n",
        "print(len(bow_transformer.vocabulary_))"
      ],
      "metadata": {
        "colab": {
          "base_uri": "https://localhost:8080/"
        },
        "id": "wNoWkjQraJ0V",
        "outputId": "122e08a7-40eb-4c67-93d9-64fd41df0160"
      },
      "execution_count": 16,
      "outputs": [
        {
          "output_type": "stream",
          "name": "stdout",
          "text": [
            "2114\n"
          ]
        }
      ]
    },
    {
      "cell_type": "markdown",
      "source": [
        "\n",
        "Sklearn menawarkan Countvectorizer yang menghitung frekuensi kata tertentu dalam dokumen. Ini memberikan nomor unik untuk setiap kata dalam koleksi."
      ],
      "metadata": {
        "id": "Urp9dbx0aaSE"
      }
    },
    {
      "cell_type": "code",
      "source": [
        "review1=df['text'][3]\n",
        "print(review1)\n",
        "#to check 3rd document/review in collection/database"
      ],
      "metadata": {
        "colab": {
          "base_uri": "https://localhost:8080/"
        },
        "id": "XEacZN4GaWel",
        "outputId": "704b75cf-2335-4780-f26b-ec03372298cc"
      },
      "execution_count": 17,
      "outputs": [
        {
          "output_type": "stream",
          "name": "stdout",
          "text": [
            "i liked the Da Vinci Code a lot.\n"
          ]
        }
      ]
    },
    {
      "cell_type": "code",
      "source": [
        "bow=bow_transformer.transform([review1])\n",
        "print(bow)\n",
        "bow.shape"
      ],
      "metadata": {
        "colab": {
          "base_uri": "https://localhost:8080/"
        },
        "id": "0y-SMqcLaeR8",
        "outputId": "f73093a0-0100-4857-e683-5c86b8d02d9b"
      },
      "execution_count": 18,
      "outputs": [
        {
          "output_type": "stream",
          "name": "stdout",
          "text": [
            "<Compressed Sparse Row sparse matrix of dtype 'int64'\n",
            "\twith 8 stored elements and shape (1, 2114)>\n",
            "  Coords\tValues\n",
            "  (0, 42)\t1\n",
            "  (0, 369)\t1\n",
            "  (0, 458)\t1\n",
            "  (0, 950)\t1\n",
            "  (0, 1123)\t1\n",
            "  (0, 1152)\t1\n",
            "  (0, 1838)\t1\n",
            "  (0, 1977)\t1\n"
          ]
        },
        {
          "output_type": "execute_result",
          "data": {
            "text/plain": [
              "(1, 2114)"
            ]
          },
          "metadata": {},
          "execution_count": 18
        }
      ]
    },
    {
      "cell_type": "markdown",
      "source": [
        "\n",
        "Countvectorizer membuat matriks yang jarang."
      ],
      "metadata": {
        "id": "7pVqgF6Eait3"
      }
    },
    {
      "source": [
        "print(bow_transformer.get_feature_names_out()[372]) # Use get_feature_names_out() instead of get_feature_names()\n",
        "#to check 372nd word in collection"
      ],
      "cell_type": "code",
      "metadata": {
        "colab": {
          "base_uri": "https://localhost:8080/"
        },
        "id": "HCbwyPymapHm",
        "outputId": "2b2eb275-1103-49e9-c8df-bd87c976e72d"
      },
      "execution_count": 20,
      "outputs": [
        {
          "output_type": "stream",
          "name": "stdout",
          "text": [
            "code-other\n"
          ]
        }
      ]
    },
    {
      "cell_type": "code",
      "source": [
        "review_bow = bow_transformer.transform(df['text'])\n",
        "print( 'sparse matrix shape:', review_bow.shape)\n",
        "print('number of non-zeros:', review_bow.nnz) #learn this\n",
        "print( 'sparsity: %.2f%%' % (100.0 * review_bow.nnz))"
      ],
      "metadata": {
        "colab": {
          "base_uri": "https://localhost:8080/"
        },
        "id": "IegHag5OarRa",
        "outputId": "dc9d3935-9426-4116-fc70-522e91e8296a"
      },
      "execution_count": 21,
      "outputs": [
        {
          "output_type": "stream",
          "name": "stdout",
          "text": [
            "sparse matrix shape: (6931, 2114)\n",
            "number of non-zeros: 71297\n",
            "sparsity: 7129700.00%\n"
          ]
        }
      ]
    },
    {
      "cell_type": "markdown",
      "source": [
        "\n",
        "Countvectorizer membuat matriks jarang.bentuk matriks jarang n*m di mana n adalah total dokumen dan m adalah total kata unik."
      ],
      "metadata": {
        "id": "58wVeZRgaxKo"
      }
    },
    {
      "cell_type": "markdown",
      "source": [
        "\n",
        "CountVectorizer hanya menghitung frekuensi kata dalam dokumen tersebut. Tetapi sering kali beberapa kata seperti (the, or) muncul banyak kali dalam koleksi yang sebenarnya tidak berkontribusi dalam menentukan polaritas dokumen tertentu sehingga untuk meniadakan efeknya, metode pembobotan khusus digunakan."
      ],
      "metadata": {
        "id": "RqUkiaiSa4go"
      }
    },
    {
      "cell_type": "markdown",
      "source": [
        "# Tf-idf Vectorizer"
      ],
      "metadata": {
        "id": "6T5FOL-3a7F4"
      }
    },
    {
      "cell_type": "markdown",
      "source": [
        "\n",
        "Tf berarti term-frequency sedangkan tf-idf berarti term-frequency dikalikan invers document-frequency.\n",
        "\n",
        "Tujuan menggunakan tf-idf daripada hanya CountVectorizer dalam dokumen tertentu adalah untuk mengurangi dampak token yang sangat sering muncul dalam korpus tertentu (yang kurang informatif) daripada token yang muncul beberapa kali.\n",
        "\n",
        "Tf-idf(d,t)=tf(d,t)*idf(d,t);\n",
        "\n",
        "dimana tf(d,t) adalah term frequency yang menyatakan berapa kali kata/token t muncul di dalam dokumen tersebut dibagi dengan jumlah total kata di dalam dokumen tersebut.\n",
        "\n",
        "dan idf(d,t)=log[n/(df(d,t))] yaitu jumlah total dokumen dibagi dengan jumlah dokumen yang mengandung kata/token t."
      ],
      "metadata": {
        "id": "6bAh_S1DbBVj"
      }
    },
    {
      "cell_type": "code",
      "source": [
        "tfidf_transformer =TfidfTransformer().fit(review_bow)\n",
        "review_tfidf = tfidf_transformer.transform(review_bow)\n",
        "review_tfidf.shape"
      ],
      "metadata": {
        "colab": {
          "base_uri": "https://localhost:8080/"
        },
        "id": "IN421B6ta7hB",
        "outputId": "99d596b0-015b-45a1-d888-98327ac18442"
      },
      "execution_count": 22,
      "outputs": [
        {
          "output_type": "execute_result",
          "data": {
            "text/plain": [
              "(6931, 2114)"
            ]
          },
          "metadata": {},
          "execution_count": 22
        }
      ]
    },
    {
      "cell_type": "markdown",
      "source": [
        "\n",
        "Count vectorizer memberikan keluaran berupa frekuensi kata-kata yang berbeda dalam korpus kita, yang kemudian diteruskan ke metode transformasi tf-idf_transformer.\n",
        "\n",
        "Ini mentransformasikan matriks hitungan ke representasi tf atau tf-idf yang dinormalisasi"
      ],
      "metadata": {
        "id": "cKj5h0UlbEkZ"
      }
    },
    {
      "cell_type": "code",
      "source": [
        "text_train, text_test, liked_train, liked_test = train_test_split(df['text'], df['liked'], test_size=0.2)\n",
        "print(len(text_train), len(text_test), len(text_train) , len(text_test))"
      ],
      "metadata": {
        "colab": {
          "base_uri": "https://localhost:8080/"
        },
        "id": "wQLdi0qCbIWM",
        "outputId": "e3153019-3165-4370-bd3d-62412c7f6fa3"
      },
      "execution_count": 23,
      "outputs": [
        {
          "output_type": "stream",
          "name": "stdout",
          "text": [
            "5544 1387 5544 1387\n"
          ]
        }
      ]
    },
    {
      "cell_type": "markdown",
      "source": [
        "\n",
        "Dataset yang diunduh kemudian dibagi menjadi data latih dan data uji dengan rasio 0,8 banding 0,2"
      ],
      "metadata": {
        "id": "P6D3GQDJbN4R"
      }
    },
    {
      "cell_type": "code",
      "source": [
        "pipeline_svm = Pipeline([\n",
        "    ('bow', CountVectorizer(analyzer=to_lemmas)),\n",
        "    ('tfidf', TfidfTransformer()),\n",
        "    ('classifier', SVC()),\n",
        "])"
      ],
      "metadata": {
        "id": "dD0ZSttibOUA"
      },
      "execution_count": 24,
      "outputs": []
    },
    {
      "cell_type": "markdown",
      "source": [
        "\n",
        "Pipeline secara berurutan menerapkan daftar transformasi dan estimator akhir. Langkah-langkah perantara dari pipeline harus berupa ‘transformasi’, yaitu harus menerapkan metode fit dan transformasi. Estimator akhir hanya perlu mengimplementasikan fit.\n",
        "\n",
        "Tujuan dari pipeline adalah untuk mengumpulkan beberapa langkah yang dapat divalidasi silang secara bersamaan sambil menetapkan parameter yang berbeda."
      ],
      "metadata": {
        "id": "Wm6aVo8AbS_q"
      }
    },
    {
      "cell_type": "code",
      "source": [
        "# pipeline parameters to automatically explore and tune\n",
        "param_svm = [\n",
        "  {'classifier__C': [1, 10, 100, 1000], 'classifier__kernel': ['linear']},\n",
        "  {'classifier__C': [1, 10, 100, 1000], 'classifier__gamma': [0.001, 0.0001], 'classifier__kernel': ['rbf']},\n",
        "]"
      ],
      "metadata": {
        "id": "Kzqwo5UpbTg9"
      },
      "execution_count": 25,
      "outputs": []
    },
    {
      "cell_type": "markdown",
      "source": [
        "**SVM**"
      ],
      "metadata": {
        "id": "Mii_I1H8bW-b"
      }
    },
    {
      "source": [
        "grid_svm = GridSearchCV(\n",
        "    pipeline_svm,\n",
        "    param_grid=param_svm,\n",
        "    refit=True,\n",
        "    n_jobs=-1,\n",
        "    scoring='accuracy',\n",
        "    cv=StratifiedKFold(n_splits=5),\n",
        ")"
      ],
      "cell_type": "code",
      "metadata": {
        "id": "v-vsgzQubgeJ"
      },
      "execution_count": 28,
      "outputs": []
    },
    {
      "cell_type": "markdown",
      "source": [
        "\n",
        "Pencarian menyeluruh atas nilai parameter yang ditentukan untuk sebuah estimator.\n",
        "\n",
        "CV adalah singkatan dari validasi silang. Mempelajari parameter fungsi prediksi dan mengujinya pada data yang sama adalah kesalahan metodologis, hal ini akan selalu memberikan akurasi 100% dan oleh karena itu data pelatihan dan pengujian harus berbeda. Validasi silang adalah ide untuk membagi data pelatihan menjadi k lipatan yaitu k subset. Prosedur berikut ini diikuti untuk setiap k “fold”:\n",
        "\n",
        "Sebuah model dilatih dengan menggunakan k-1 dari folds sebagai data pelatihan;\n",
        "\n",
        "Model yang dihasilkan divalidasi pada bagian data yang tersisa (yaitu, digunakan sebagai set pengujian untuk menghitung ukuran kinerja seperti akurasi)."
      ],
      "metadata": {
        "id": "25SqDVuDbpEM"
      }
    },
    {
      "source": [
        "%time classifier = grid_svm.fit(text_train, liked_train) # find the best combination from param_svm\n",
        "# Access the results using cv_results_ instead of grid_scores_\n",
        "print(classifier.cv_results_)"
      ],
      "cell_type": "code",
      "metadata": {
        "colab": {
          "base_uri": "https://localhost:8080/"
        },
        "id": "oqNgb_X7cVV5",
        "outputId": "a062e21b-e7c5-4871-b8e0-a9adbb9d806e"
      },
      "execution_count": 30,
      "outputs": [
        {
          "output_type": "stream",
          "name": "stdout",
          "text": [
            "CPU times: user 3.01 s, sys: 224 ms, total: 3.23 s\n",
            "Wall time: 2min 23s\n",
            "{'mean_fit_time': array([2.93350735, 2.21106935, 2.77329116, 2.21042023, 6.33782072,\n",
            "       6.2300736 , 4.36579833, 6.26989217, 2.33368726, 5.75402026,\n",
            "       2.50050511, 2.56854653]), 'std_fit_time': array([0.41147904, 0.12818225, 0.70491072, 0.05686795, 0.78498659,\n",
            "       0.85809856, 0.71671436, 0.90793285, 0.03930452, 1.61550293,\n",
            "       0.43478882, 0.31109842]), 'mean_score_time': array([0.66583338, 0.51651225, 0.67007031, 0.52229333, 1.10932431,\n",
            "       1.2609602 , 0.97974577, 1.09732447, 0.59130831, 1.16317053,\n",
            "       0.60885115, 0.66842046]), 'std_score_time': array([0.18404829, 0.01832509, 0.1658548 , 0.00885445, 0.0534536 ,\n",
            "       0.24072675, 0.07643578, 0.07242033, 0.01833061, 0.32607716,\n",
            "       0.15309682, 0.13200657]), 'param_classifier__C': masked_array(data=[1, 10, 100, 1000, 1, 1, 10, 10, 100, 100, 1000, 1000],\n",
            "             mask=[False, False, False, False, False, False, False, False,\n",
            "                   False, False, False, False],\n",
            "       fill_value=999999), 'param_classifier__kernel': masked_array(data=['linear', 'linear', 'linear', 'linear', 'rbf', 'rbf',\n",
            "                   'rbf', 'rbf', 'rbf', 'rbf', 'rbf', 'rbf'],\n",
            "             mask=[False, False, False, False, False, False, False, False,\n",
            "                   False, False, False, False],\n",
            "       fill_value=np.str_('?'),\n",
            "            dtype=object), 'param_classifier__gamma': masked_array(data=[--, --, --, --, 0.001, 0.0001, 0.001, 0.0001, 0.001,\n",
            "                   0.0001, 0.001, 0.0001],\n",
            "             mask=[ True,  True,  True,  True, False, False, False, False,\n",
            "                   False, False, False, False],\n",
            "       fill_value=1e+20), 'params': [{'classifier__C': 1, 'classifier__kernel': 'linear'}, {'classifier__C': 10, 'classifier__kernel': 'linear'}, {'classifier__C': 100, 'classifier__kernel': 'linear'}, {'classifier__C': 1000, 'classifier__kernel': 'linear'}, {'classifier__C': 1, 'classifier__gamma': 0.001, 'classifier__kernel': 'rbf'}, {'classifier__C': 1, 'classifier__gamma': 0.0001, 'classifier__kernel': 'rbf'}, {'classifier__C': 10, 'classifier__gamma': 0.001, 'classifier__kernel': 'rbf'}, {'classifier__C': 10, 'classifier__gamma': 0.0001, 'classifier__kernel': 'rbf'}, {'classifier__C': 100, 'classifier__gamma': 0.001, 'classifier__kernel': 'rbf'}, {'classifier__C': 100, 'classifier__gamma': 0.0001, 'classifier__kernel': 'rbf'}, {'classifier__C': 1000, 'classifier__gamma': 0.001, 'classifier__kernel': 'rbf'}, {'classifier__C': 1000, 'classifier__gamma': 0.0001, 'classifier__kernel': 'rbf'}], 'split0_test_score': array([0.98917944, 0.98827773, 0.98827773, 0.98827773, 0.56898106,\n",
            "       0.56898106, 0.97565374, 0.56898106, 0.98467087, 0.97565374,\n",
            "       0.98827773, 0.98467087]), 'split1_test_score': array([0.99639315, 0.99368801, 0.99368801, 0.99368801, 0.56898106,\n",
            "       0.56898106, 0.98196573, 0.56898106, 0.99098287, 0.98196573,\n",
            "       0.99458972, 0.99098287]), 'split2_test_score': array([0.99008115, 0.98917944, 0.98917944, 0.98917944, 0.56898106,\n",
            "       0.56898106, 0.97475203, 0.56898106, 0.98737601, 0.97475203,\n",
            "       0.98917944, 0.98737601]), 'split3_test_score': array([0.99549143, 0.99639315, 0.99639315, 0.99639315, 0.56898106,\n",
            "       0.56898106, 0.97204689, 0.56898106, 0.99188458, 0.97204689,\n",
            "       0.99639315, 0.99188458]), 'split4_test_score': array([0.98916968, 0.99097473, 0.99097473, 0.99097473, 0.56859206,\n",
            "       0.56859206, 0.96480144, 0.56859206, 0.98465704, 0.96480144,\n",
            "       0.99187726, 0.98465704]), 'mean_test_score': array([0.99206297, 0.99170261, 0.99170261, 0.99170261, 0.56890326,\n",
            "       0.56890326, 0.97384397, 0.56890326, 0.98791428, 0.97384397,\n",
            "       0.99206346, 0.98791428]), 'std_test_score': array([0.00319745, 0.0029856 , 0.0029856 , 0.0029856 , 0.0001556 ,\n",
            "       0.0001556 , 0.00556884, 0.0001556 , 0.00305282, 0.00556884,\n",
            "       0.00309232, 0.00305282]), 'rank_test_score': array([ 2,  3,  3,  3, 10, 10,  8, 10,  6,  8,  1,  6], dtype=int32)}\n"
          ]
        }
      ]
    },
    {
      "cell_type": "code",
      "source": [
        "print(classification_report(liked_test, classifier.predict(text_test)))"
      ],
      "metadata": {
        "colab": {
          "base_uri": "https://localhost:8080/"
        },
        "id": "TRqx62DIc5yT",
        "outputId": "1508968b-d105-4bca-ffe1-32e8ecfb72e9"
      },
      "execution_count": 31,
      "outputs": [
        {
          "output_type": "stream",
          "name": "stdout",
          "text": [
            "              precision    recall  f1-score   support\n",
            "\n",
            "           0       0.99      0.98      0.99       585\n",
            "           1       0.99      1.00      0.99       802\n",
            "\n",
            "    accuracy                           0.99      1387\n",
            "   macro avg       0.99      0.99      0.99      1387\n",
            "weighted avg       0.99      0.99      0.99      1387\n",
            "\n"
          ]
        }
      ]
    },
    {
      "cell_type": "code",
      "source": [
        "print(classifier.predict([\"the vinci code is awesome\"])[0])"
      ],
      "metadata": {
        "colab": {
          "base_uri": "https://localhost:8080/"
        },
        "id": "DRuYWEekc9O0",
        "outputId": "c9b4ad7a-615f-4258-820e-b6f790384170"
      },
      "execution_count": 32,
      "outputs": [
        {
          "output_type": "stream",
          "name": "stdout",
          "text": [
            "1\n"
          ]
        }
      ]
    },
    {
      "cell_type": "code",
      "source": [
        "print(classifier.predict([\"the vinci code is bad\"])[0])"
      ],
      "metadata": {
        "colab": {
          "base_uri": "https://localhost:8080/"
        },
        "id": "my2D5X5dc_kP",
        "outputId": "015ac7cc-4869-43fc-93d1-9c0252c5dcf1"
      },
      "execution_count": 33,
      "outputs": [
        {
          "output_type": "stream",
          "name": "stdout",
          "text": [
            "0\n"
          ]
        }
      ]
    },
    {
      "cell_type": "code",
      "source": [
        "def gaussKernel(x1, x2, sigma):\n",
        "    ss=np.power(sigma,2)\n",
        "    norm= (x1-x2).T.dot(x1-x2)\n",
        "    return np.exp(-norm/(2*ss))\n",
        "x1 = np.array([1, 2, 1])\n",
        "x2 = np.array([0, 4, -1])\n",
        "sigma = 2\n",
        "gaussKernel(x1,x2,sigma)"
      ],
      "metadata": {
        "colab": {
          "base_uri": "https://localhost:8080/"
        },
        "id": "zHcxKeJFdCoV",
        "outputId": "f236b0b0-fbd1-4368-99fb-82d37260e28a"
      },
      "execution_count": 34,
      "outputs": [
        {
          "output_type": "execute_result",
          "data": {
            "text/plain": [
              "np.float64(0.32465246735834974)"
            ]
          },
          "metadata": {},
          "execution_count": 34
        }
      ]
    }
  ]
}